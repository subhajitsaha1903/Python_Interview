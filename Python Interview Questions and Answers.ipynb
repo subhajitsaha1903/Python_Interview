{
 "cells": [
  {
   "cell_type": "markdown",
   "id": "f22d7678",
   "metadata": {},
   "source": [
    "# 𝙇𝙞𝙨𝙩 𝙤𝙛 𝙋𝙮𝙩𝙝𝙤𝙣 𝙥𝙧𝙤𝙜𝙧𝙖𝙢𝙢𝙞𝙣𝙜 𝙦𝙪𝙚𝙨𝙩𝙞𝙤𝙣𝙨 𝙩𝙤 𝙥𝙧𝙖𝙘𝙩𝙞𝙘𝙚 𝙛𝙤𝙧 𝙙𝙖𝙩𝙖 𝙨𝙘𝙞𝙚𝙣𝙘𝙚 𝙄𝙣𝙩𝙚𝙧𝙫𝙞𝙚𝙬"
   ]
  },
  {
   "cell_type": "markdown",
   "id": "3c041876",
   "metadata": {},
   "source": [
    "## 1. Create a list of squared integers from a given list of integers."
   ]
  },
  {
   "cell_type": "code",
   "execution_count": 1,
   "id": "92d0114f",
   "metadata": {},
   "outputs": [
    {
     "name": "stdout",
     "output_type": "stream",
     "text": [
      "[1, 9, 25, 64, 4, 16]\n"
     ]
    }
   ],
   "source": [
    "given_list=[1,3,5,8,2,4]\n",
    "squared_list=[]\n",
    "for i in given_list:\n",
    "    sq=i*i\n",
    "    squared_list.append(sq)\n",
    "    \n",
    "print(squared_list)"
   ]
  },
  {
   "cell_type": "markdown",
   "id": "fea86d82",
   "metadata": {},
   "source": [
    "## 2. Create a list of even numbers from a given list of integers."
   ]
  },
  {
   "cell_type": "code",
   "execution_count": 11,
   "id": "fa291860",
   "metadata": {},
   "outputs": [
    {
     "name": "stdout",
     "output_type": "stream",
     "text": [
      "[8, 2, 4]\n"
     ]
    }
   ],
   "source": [
    "given_list=[1,3,5,8,2,4]\n",
    "even_list=[]\n",
    "for i in given_list:\n",
    "    if (i%2)==0:\n",
    "        even_list.append(i)\n",
    "        \n",
    "print(even_list)"
   ]
  },
  {
   "cell_type": "markdown",
   "id": "118a82ab",
   "metadata": {},
   "source": [
    "## 3. Create a list of vowels from a given string."
   ]
  },
  {
   "cell_type": "code",
   "execution_count": 24,
   "id": "4727663b",
   "metadata": {},
   "outputs": [
    {
     "name": "stdout",
     "output_type": "stream",
     "text": [
      "['u', 'a', 'i']\n"
     ]
    }
   ],
   "source": [
    "given_string='Subhajit Saha'\n",
    "# vowel_list=['a','A','e','E','i','I','o','O','u','U']\n",
    "our_vowel_list=[]\n",
    "for i in given_string:\n",
    "    if ((i=='a')|(i=='e')|(i=='i')|(i=='o')|(i=='u')|(i=='A')|(i=='E')|(i=='I')|(i=='O')|(i=='U')):\n",
    "        our_vowel_list.append(i)\n",
    "\n",
    "\n",
    "# print(our_vowel_list)\n",
    "our_vowel_list = list(dict.fromkeys(our_vowel_list))\n",
    "print(our_vowel_list)"
   ]
  },
  {
   "cell_type": "markdown",
   "id": "386e1333",
   "metadata": {},
   "source": [
    "## 4. Create a list of all the words in a given sentence."
   ]
  },
  {
   "cell_type": "code",
   "execution_count": 28,
   "id": "295e6cff",
   "metadata": {},
   "outputs": [
    {
     "name": "stdout",
     "output_type": "stream",
     "text": [
      "['Data', 'Science', 'is', 'the', 'future']\n"
     ]
    }
   ],
   "source": [
    "given_sentence = 'Data Science is the future'\n",
    "word_list=given_sentence.split(\" \")\n",
    "print(word_list)"
   ]
  },
  {
   "cell_type": "markdown",
   "id": "bbf83062",
   "metadata": {},
   "source": [
    "## 5. Create a list of all the positive numbers from a given list of integers."
   ]
  },
  {
   "cell_type": "code",
   "execution_count": 30,
   "id": "d5bd7ec3",
   "metadata": {},
   "outputs": [
    {
     "name": "stdout",
     "output_type": "stream",
     "text": [
      "[1, 3, 5, 8, 2, 4, 0]\n"
     ]
    }
   ],
   "source": [
    "given_list=[1,3,-9,5,8,2,4,-8,-4,-5,0,-1]\n",
    "positive_num_list=[]\n",
    "for i in given_list:\n",
    "    if i>=0:\n",
    "        positive_num_list.append(i)\n",
    "        \n",
    "print(positive_num_list)"
   ]
  },
  {
   "cell_type": "markdown",
   "id": "eb7afa2f",
   "metadata": {},
   "source": [
    "## 6. Create a list of all the uppercase characters from a given string."
   ]
  },
  {
   "cell_type": "code",
   "execution_count": 36,
   "id": "d0452a0d",
   "metadata": {},
   "outputs": [
    {
     "name": "stdout",
     "output_type": "stream",
     "text": [
      "['SUBHAJIT', 'SAHA', 'IS', 'AI', 'ENTHUSIAST']\n"
     ]
    }
   ],
   "source": [
    "given_string='Subhajit Saha is AI Enthusiast'\n",
    "word_list=given_string.split(\" \")\n",
    "# print(word_list)\n",
    "upper_list=[]\n",
    "for i in word_list:\n",
    "    j=i.upper()\n",
    "    upper_list.append(j)\n",
    "# print(given_string.upper())\n",
    "print(upper_list)"
   ]
  },
  {
   "cell_type": "markdown",
   "id": "d2731ec4",
   "metadata": {},
   "source": [
    "## 7.  Create a list of all the first letters of words in a given sentence."
   ]
  },
  {
   "cell_type": "code",
   "execution_count": 42,
   "id": "086caa0d",
   "metadata": {},
   "outputs": [
    {
     "name": "stdout",
     "output_type": "stream",
     "text": [
      "['D', 'S', 'i', 't', 'f']\n"
     ]
    }
   ],
   "source": [
    "given_sentence = 'Data Science is the future'\n",
    "word_list=given_sentence.split(\" \")\n",
    "# print(word_list)\n",
    "first_letter_list=[]\n",
    "for i in word_list:\n",
    "#     print(i[0])\n",
    "    first_letter_list.append(i[0])\n",
    "    \n",
    "print(first_letter_list)"
   ]
  },
  {
   "cell_type": "markdown",
   "id": "d391b267",
   "metadata": {},
   "source": [
    "## 8. Create a list of all the unique words from a given sentence"
   ]
  },
  {
   "cell_type": "code",
   "execution_count": 49,
   "id": "21545d02",
   "metadata": {},
   "outputs": [
    {
     "name": "stdout",
     "output_type": "stream",
     "text": [
      "['for', 'geeks']\n"
     ]
    }
   ],
   "source": [
    "given_sentence = \"geeks for geeks\"\n",
    "# given_sentence = 'Data Science is the future'\n",
    "\n",
    "word_list = set(given_sentence.split(\" \"))\n",
    "unique_list=[]\n",
    "for i in word_list:\n",
    "#     print(i)\n",
    "    unique_list.append(i)\n",
    "\n",
    "print(unique_list)"
   ]
  },
  {
   "cell_type": "markdown",
   "id": "28a4cbcf",
   "metadata": {},
   "source": [
    "## 9. Create a list of all the anagrams of a given word from a list of words"
   ]
  },
  {
   "cell_type": "code",
   "execution_count": 54,
   "id": "d3dec88f",
   "metadata": {},
   "outputs": [
    {
     "name": "stdout",
     "output_type": "stream",
     "text": [
      "cat tac act dog god \n"
     ]
    }
   ],
   "source": [
    "# Function to return all anagrams together\n",
    "def allAnagram(input):\n",
    "\t\n",
    "\t# empty dictionary which holds subsets\n",
    "\t# of all anagrams together\n",
    "\tdict = {}\n",
    "\n",
    "\t# traverse list of strings\n",
    "\tfor strVal in input:\n",
    "\t\t\n",
    "\t\t# sorted(iterable) method accepts any\n",
    "\t\t# iterable and returns list of items\n",
    "\t\t# in ascending order\n",
    "\t\tkey = ''.join(sorted(strVal))\n",
    "\t\t\n",
    "\t\t# now check if key exist in dictionary\n",
    "\t\t# or not. If yes then simply append the\n",
    "\t\t# strVal into the list of it's corresponding\n",
    "\t\t# key. If not then map empty list onto\n",
    "\t\t# key and then start appending values\n",
    "\t\tif key in dict.keys():\n",
    "\t\t\tdict[key].append(strVal)\n",
    "\t\telse:\n",
    "\t\t\tdict[key] = []\n",
    "\t\t\tdict[key].append(strVal)\n",
    "\n",
    "\t# traverse dictionary and concatenate values\n",
    "\t# of keys together\n",
    "\toutput = \"\"\n",
    "\tfor key,value in dict.items():\n",
    "\t\toutput = output + ' '.join(value) + ' '\n",
    "\n",
    "\treturn output\n",
    "\n",
    "# Driver function\n",
    "if __name__ == \"__main__\":\n",
    "\tinput=['cat', 'dog', 'tac', 'god', 'act']\n",
    "#     input=['dog','god','cat',]\n",
    "\tprint (allAnagram(input))\n"
   ]
  },
  {
   "cell_type": "code",
   "execution_count": 53,
   "id": "d9ef9534",
   "metadata": {},
   "outputs": [],
   "source": [
    "# input=['cat', 'dog', 'tac', 'god', 'act']\n",
    "# for i in input:\n",
    "#     print(i)"
   ]
  },
  {
   "cell_type": "code",
   "execution_count": 60,
   "id": "682a7f16",
   "metadata": {},
   "outputs": [
    {
     "name": "stdout",
     "output_type": "stream",
     "text": [
      "['listen', 'silent']\n",
      "['pot', 'opt']\n",
      "['part', 'trap']\n",
      "['pot', 'opt']\n",
      "['part', 'trap']\n",
      "['listen', 'silent']\n"
     ]
    }
   ],
   "source": [
    "def find_anagrams(word, word_list):\n",
    "    return [w for w in word_list if sorted(w) == sorted(word)]\n",
    "word_list = ['listen', 'pot', 'part', 'opt', 'trap', 'silent']\n",
    "# word = 'silent'\n",
    "for word in word_list:\n",
    "    print(find_anagrams(word, word_list))\n",
    "# Output: ['listen']"
   ]
  },
  {
   "cell_type": "markdown",
   "id": "b088f452",
   "metadata": {},
   "source": [
    "## 10. Create a list of all the permutations of a given string using list comprehension."
   ]
  },
  {
   "cell_type": "code",
   "execution_count": 57,
   "id": "b0e68bce",
   "metadata": {},
   "outputs": [
    {
     "name": "stdout",
     "output_type": "stream",
     "text": [
      "Saha\n",
      "Saah\n",
      "Shaa\n",
      "Shaa\n",
      "Saha\n",
      "Saah\n",
      "aSha\n",
      "aSah\n",
      "ahSa\n",
      "ahaS\n",
      "aahS\n",
      "aaSh\n",
      "haSa\n",
      "haaS\n",
      "hSaa\n",
      "hSaa\n",
      "haSa\n",
      "haaS\n",
      "aahS\n",
      "aaSh\n",
      "ahaS\n",
      "ahSa\n",
      "aSha\n",
      "aSah\n"
     ]
    }
   ],
   "source": [
    "# Python program to print all permutations\n",
    "# with duplicates allowed\n",
    "def toString(List):\n",
    "\treturn ''.join(List)\n",
    "\n",
    "# Function to print permutations\n",
    "# of string\n",
    "# This function takes three parameters:\n",
    "# 1. String\n",
    "# 2. Starting index of the string\n",
    "# 3. Ending index of the string.\n",
    "def permute(a, l, r):\n",
    "\tif l == r:\n",
    "\t\tprint (toString(a))\n",
    "\telse:\n",
    "\t\tfor i in range(l, r + 1):\n",
    "\t\t\ta[l], a[i] = a[i], a[l]\n",
    "\t\t\tpermute(a, l + 1, r)\n",
    "\n",
    "\t\t\t# backtrack\n",
    "\t\t\ta[l], a[i] = a[i], a[l]\n",
    "\n",
    "# Driver code\n",
    "# string = \"ABC\"\n",
    "string='Saha'\n",
    "n = len(string)\n",
    "a = list(string)\n",
    "permute(a, 0, n-1)\n",
    "# This code is contributed by Bhavya Jain\n"
   ]
  },
  {
   "cell_type": "code",
   "execution_count": 58,
   "id": "abbefae8",
   "metadata": {},
   "outputs": [
    {
     "name": "stdout",
     "output_type": "stream",
     "text": [
      "['abc', 'acb', 'bac', 'bca', 'cab', 'cba']\n"
     ]
    }
   ],
   "source": [
    "from itertools import permutations\n",
    "\n",
    "def string_permutations(string):\n",
    "    return [''.join(p) for p in permutations(string)]\n",
    "\n",
    "print(string_permutations('abc'))\n",
    "# Output: ['abc', 'acb', 'bac', 'bca', 'cab', 'cba']"
   ]
  },
  {
   "cell_type": "markdown",
   "id": "871a9cb9",
   "metadata": {},
   "source": [
    "## 11. Create a list of all the words that start and end with the same letter from a given list of words using list comprehension."
   ]
  },
  {
   "cell_type": "code",
   "execution_count": 3,
   "id": "f960b40a",
   "metadata": {},
   "outputs": [
    {
     "name": "stdout",
     "output_type": "stream",
     "text": [
      "['aroma', 'abcba']\n"
     ]
    }
   ],
   "source": [
    "word_list = [\"apple\", \"banana\", \"cat\", \"dog\", \"elephant\", \"frog\",'aroma','abcba']\n",
    "\n",
    "same_first_last = [word for word in word_list if word[0] == word[-1]]\n",
    "\n",
    "print(same_first_last)"
   ]
  },
  {
   "cell_type": "markdown",
   "id": "43fc54b7",
   "metadata": {},
   "source": [
    "## 12.   Create a list of all the numbers that are divisible by 3 and 5 from a given list of integers using list comprehension."
   ]
  },
  {
   "cell_type": "code",
   "execution_count": 6,
   "id": "8da3b5b1",
   "metadata": {},
   "outputs": [
    {
     "name": "stdout",
     "output_type": "stream",
     "text": [
      "[6, 3, 15, 21]\n"
     ]
    }
   ],
   "source": [
    "number_list=[4,6,2,3,15,21]\n",
    "div_by_3_5=[]\n",
    "for i in number_list:\n",
    "    if (i%3==0)|(i%5==0):\n",
    "        div_by_3_5.append(i)\n",
    "        \n",
    "print(div_by_3_5)"
   ]
  },
  {
   "cell_type": "code",
   "execution_count": 8,
   "id": "05dbc5dd",
   "metadata": {},
   "outputs": [
    {
     "name": "stdout",
     "output_type": "stream",
     "text": [
      "[6, 3, 15, 21]\n"
     ]
    }
   ],
   "source": [
    "number_list=[4,6,2,3,15,21]\n",
    "div_by_3_5=[i for i in number_list if ((i%3==0)|(i%5==0))]\n",
    "print(div_by_3_5)"
   ]
  },
  {
   "cell_type": "markdown",
   "id": "209cd417",
   "metadata": {},
   "source": [
    "## 13.   Convert a given string to lowercase"
   ]
  },
  {
   "cell_type": "code",
   "execution_count": 9,
   "id": "e2c31d9d",
   "metadata": {},
   "outputs": [
    {
     "name": "stdout",
     "output_type": "stream",
     "text": [
      "subhajit saha is ai enthusiast\n"
     ]
    }
   ],
   "source": [
    "given_string='Subhajit Saha is AI Enthusiast'\n",
    "print(given_string.lower())"
   ]
  },
  {
   "cell_type": "markdown",
   "id": "722b6e03",
   "metadata": {},
   "source": [
    "## 14.   Reverse a given string"
   ]
  },
  {
   "cell_type": "code",
   "execution_count": 10,
   "id": "2d41d513",
   "metadata": {},
   "outputs": [
    {
     "name": "stdout",
     "output_type": "stream",
     "text": [
      "tijahbuS\n"
     ]
    }
   ],
   "source": [
    "given_string='Subhajit'\n",
    "print(given_string[::-1])"
   ]
  },
  {
   "cell_type": "markdown",
   "id": "1afa721d",
   "metadata": {},
   "source": [
    "## 15.   Remove all the vowels from a given string"
   ]
  },
  {
   "cell_type": "code",
   "execution_count": 17,
   "id": "251179c2",
   "metadata": {},
   "outputs": [
    {
     "name": "stdout",
     "output_type": "stream",
     "text": [
      "Hll, Wrld!\n"
     ]
    }
   ],
   "source": [
    "input_str = \"Hello, World!\"\n",
    "vowels = \"aeiouAEIOU\"\n",
    "\n",
    "output_str = \"\".join([char for char in input_str if char not in vowels])\n",
    "\n",
    "print(output_str)"
   ]
  },
  {
   "cell_type": "markdown",
   "id": "fca7a7ed",
   "metadata": {},
   "source": [
    "## 16.   Find all the digits in a given string"
   ]
  },
  {
   "cell_type": "code",
   "execution_count": 18,
   "id": "2e6e5d6e",
   "metadata": {},
   "outputs": [
    {
     "name": "stdout",
     "output_type": "stream",
     "text": [
      "['3', '2']\n"
     ]
    }
   ],
   "source": [
    "input_str = \"There are 3 cats and 2 dogs in the house.\"\n",
    "\n",
    "digits = [char for char in input_str if char.isdigit()]\n",
    "\n",
    "print(digits)"
   ]
  },
  {
   "cell_type": "markdown",
   "id": "ede2a50d",
   "metadata": {},
   "source": [
    "## 17.   Remove all the whitespace characters from a given string"
   ]
  },
  {
   "cell_type": "code",
   "execution_count": 19,
   "id": "676843e6",
   "metadata": {},
   "outputs": [
    {
     "name": "stdout",
     "output_type": "stream",
     "text": [
      "Thisisastringwithwhitespace.\n"
     ]
    }
   ],
   "source": [
    "input_str = \"  This is a    string with  whitespace.  \"\n",
    "\n",
    "output_str = \"\".join([char for char in input_str if not char.isspace()])\n",
    "\n",
    "print(output_str)"
   ]
  },
  {
   "cell_type": "code",
   "execution_count": 22,
   "id": "cc10796d",
   "metadata": {},
   "outputs": [],
   "source": [
    "# input_str = \"  This is a    string with  whitespace.  \"\n",
    "\n",
    "# # output_str = \"\".join([char for char in input_str if not char.isspace()])\n",
    "# output_str=[]\n",
    "# for i in input_str:\n",
    "#     if i!=\" \":\n",
    "#         output_str.append(i)\n",
    "\n",
    "# print(output_str)\n"
   ]
  },
  {
   "cell_type": "markdown",
   "id": "d16d907d",
   "metadata": {},
   "source": [
    "## 18.   Create a string of all the characters in a given list of strings"
   ]
  },
  {
   "cell_type": "code",
   "execution_count": 23,
   "id": "d9b1497a",
   "metadata": {},
   "outputs": [
    {
     "name": "stdout",
     "output_type": "stream",
     "text": [
      "helloworldpython\n"
     ]
    }
   ],
   "source": [
    "str_list = [\"hello\", \"world\", \"python\"]\n",
    "\n",
    "char_str = \"\".join([char for word in str_list for char in word])\n",
    "\n",
    "print(char_str)"
   ]
  },
  {
   "cell_type": "markdown",
   "id": "1dcd6fd6",
   "metadata": {},
   "source": [
    "## 19.   Remove all the punctuation characters from a given string"
   ]
  },
  {
   "cell_type": "code",
   "execution_count": 24,
   "id": "f57546d4",
   "metadata": {},
   "outputs": [
    {
     "name": "stdout",
     "output_type": "stream",
     "text": [
      "Hello World This is a test\n"
     ]
    }
   ],
   "source": [
    "import string\n",
    "\n",
    "input_str = \"Hello, World! This is a test.\"\n",
    "\n",
    "output_str = \"\".join([char for char in input_str if char not in string.punctuation])\n",
    "\n",
    "print(output_str)"
   ]
  },
  {
   "cell_type": "markdown",
   "id": "714c7a1e",
   "metadata": {},
   "source": [
    "## 20.   Count the number of times each character appears in a given string"
   ]
  },
  {
   "cell_type": "code",
   "execution_count": 25,
   "id": "1e0fed3e",
   "metadata": {},
   "outputs": [
    {
     "name": "stdout",
     "output_type": "stream",
     "text": [
      "Counter({' ': 5, 'l': 3, 's': 3, 'e': 2, 'o': 2, 'i': 2, 't': 2, 'H': 1, ',': 1, 'W': 1, 'r': 1, 'd': 1, '!': 1, 'T': 1, 'h': 1, 'a': 1, '.': 1})\n"
     ]
    }
   ],
   "source": [
    "from collections import Counter\n",
    "\n",
    "input_str = \"Hello, World! This is a test.\"\n",
    "\n",
    "char_count = Counter(input_str)\n",
    "\n",
    "print(char_count)"
   ]
  },
  {
   "cell_type": "markdown",
   "id": "7858f116",
   "metadata": {},
   "source": [
    "## 21.   Find the most common character in a given string"
   ]
  },
  {
   "cell_type": "code",
   "execution_count": 26,
   "id": "9cb0463f",
   "metadata": {},
   "outputs": [
    {
     "name": "stdout",
     "output_type": "stream",
     "text": [
      " \n"
     ]
    }
   ],
   "source": [
    "from collections import Counter\n",
    "\n",
    "input_str = \"Hello, World! This is a test.\"\n",
    "\n",
    "char_count = Counter(input_str)\n",
    "\n",
    "most_common_char = char_count.most_common(1)[0][0]\n",
    "\n",
    "print(most_common_char)"
   ]
  },
  {
   "cell_type": "markdown",
   "id": "450a9186",
   "metadata": {},
   "source": [
    "## 22.   Capitalize the first letter of each word in a given string"
   ]
  },
  {
   "cell_type": "code",
   "execution_count": 27,
   "id": "8629a9b3",
   "metadata": {},
   "outputs": [
    {
     "name": "stdout",
     "output_type": "stream",
     "text": [
      "Hello World This Is A Test\n"
     ]
    }
   ],
   "source": [
    "input_str = \"hello world this is a test\"\n",
    "\n",
    "output_str = \" \".join([word.capitalize() for word in input_str.split()])\n",
    "\n",
    "print(output_str)"
   ]
  },
  {
   "cell_type": "markdown",
   "id": "b09850c0",
   "metadata": {},
   "source": [
    "## 23.   Find all the anagrams of a given word from a list of words"
   ]
  },
  {
   "cell_type": "code",
   "execution_count": 31,
   "id": "d2efdbcc",
   "metadata": {},
   "outputs": [
    {
     "name": "stdout",
     "output_type": "stream",
     "text": [
      "['enlist', 'silent', 'inlets', 'tinsel']\n"
     ]
    }
   ],
   "source": [
    "from collections import Counter\n",
    "\n",
    "def find_anagrams(word, word_list):\n",
    "    # Count the characters in the input word\n",
    "    word_count = Counter(word)\n",
    "    # Filter the list of words to those with the same character count as the input word\n",
    "    anagrams = [w for w in word_list if Counter(w) == word_count]\n",
    "    return anagrams\n",
    "\n",
    "input_word = \"listen\"\n",
    "word_list = [\"enlist\", \"silent\", \"inlets\", \"banana\", \"tinsel\"]\n",
    "\n",
    "anagrams = find_anagrams(input_word, word_list)\n",
    "\n",
    "print(anagrams)"
   ]
  },
  {
   "cell_type": "markdown",
   "id": "11d2c4a9",
   "metadata": {},
   "source": [
    "## 24.   Create a string of all the unique characters in a given string"
   ]
  },
  {
   "cell_type": "code",
   "execution_count": 32,
   "id": "0b675aca",
   "metadata": {},
   "outputs": [
    {
     "name": "stdout",
     "output_type": "stream",
     "text": [
      "hwdloe r\n"
     ]
    }
   ],
   "source": [
    "input_str = \"hello world\"\n",
    "\n",
    "unique_chars = \"\".join(set(input_str))\n",
    "\n",
    "print(unique_chars)"
   ]
  },
  {
   "cell_type": "markdown",
   "id": "306bdb33",
   "metadata": {},
   "source": [
    "## 25.   Find the longest palindrome in a given string"
   ]
  },
  {
   "cell_type": "code",
   "execution_count": 34,
   "id": "2f7b25c9",
   "metadata": {},
   "outputs": [
    {
     "name": "stdout",
     "output_type": "stream",
     "text": [
      "abcdefedcba\n"
     ]
    }
   ],
   "source": [
    "def find_longest_palindrome(input_str):\n",
    "    longest_palindrome = \"\"\n",
    "    for i in range(len(input_str)):\n",
    "        for j in range(i, len(input_str)):\n",
    "            substring = input_str[i:j+1]\n",
    "            if substring == substring[::-1] and len(substring) > len(longest_palindrome):\n",
    "                longest_palindrome = substring\n",
    "    return longest_palindrome\n",
    "\n",
    "# input_str = \"forgeeksskeegfor\"\n",
    "input_str='abcdefedcbasubhajit'\n",
    "\n",
    "longest_palindrome = find_longest_palindrome(input_str)\n",
    "\n",
    "print(longest_palindrome)"
   ]
  },
  {
   "cell_type": "markdown",
   "id": "ba3313d0",
   "metadata": {},
   "source": [
    "## 26.   Find all the substrings of a given string"
   ]
  },
  {
   "cell_type": "code",
   "execution_count": 2,
   "id": "da520220",
   "metadata": {},
   "outputs": [
    {
     "name": "stdout",
     "output_type": "stream",
     "text": [
      "['s', 'a', 'h', 'a', 'sa', 'ah', 'ha', 'sah', 'aha', 'saha']\n"
     ]
    }
   ],
   "source": [
    "def getAllSubStrings(x):\n",
    "    allSubStrings = [] \n",
    "\n",
    "    #iterate for different substring lengths\n",
    "    for i in range(0, len(x)):\n",
    "        #iterate across the length of given string\n",
    "        for k in range(0, len(x) - i):\n",
    "            #append substring to resulting list\n",
    "            allSubStrings.append(x[k:i+k+1])\n",
    "\n",
    "    return allSubStrings\n",
    "\n",
    "# x = input()\n",
    "x='saha'\n",
    "result = getAllSubStrings(x)\n",
    "print(result)"
   ]
  },
  {
   "cell_type": "markdown",
   "id": "d0f93c13",
   "metadata": {},
   "source": [
    "## 27.   Create a string of all the words in a given sentence in reverse order"
   ]
  },
  {
   "cell_type": "code",
   "execution_count": 8,
   "id": "34b0a82b",
   "metadata": {},
   "outputs": [
    {
     "name": "stdout",
     "output_type": "stream",
     "text": [
      "much very program this like i\n"
     ]
    }
   ],
   "source": [
    "s = \"i like this program very much\"\n",
    "words = s.split(' ')\n",
    "# print(words)\n",
    "string = []\n",
    "for word in words:\n",
    "    string.insert(0, word)\n",
    "\n",
    "print(\" \".join(string))"
   ]
  },
  {
   "cell_type": "markdown",
   "id": "c42375d7",
   "metadata": {},
   "source": [
    "## 28.   Create an array of integers from a given list of integers."
   ]
  },
  {
   "cell_type": "code",
   "execution_count": 16,
   "id": "cbd8ea81",
   "metadata": {},
   "outputs": [
    {
     "name": "stdout",
     "output_type": "stream",
     "text": [
      "[3, 5, 9, 1, 2, 7, 8, 2]\n",
      "<class 'list'>\n",
      "[3 5 9 1 2 7 8 2]\n",
      "<class 'numpy.ndarray'>\n"
     ]
    }
   ],
   "source": [
    "import numpy as np\n",
    "# num_list=[1.008, 6.94, 22.990, 39.098, 85.468]\n",
    "num_list=[3,5,9,1,2,7,8,2]\n",
    "print(num_list)\n",
    "print(type(num_list))\n",
    "one_dim = np.array(num_list)\n",
    "print(one_dim)\n",
    "print(type(one_dim))"
   ]
  },
  {
   "cell_type": "markdown",
   "id": "d539e66a",
   "metadata": {},
   "source": [
    "## 29.   Find the sum of all the elements in a given array of integers."
   ]
  },
  {
   "cell_type": "code",
   "execution_count": 31,
   "id": "c0f94388",
   "metadata": {},
   "outputs": [
    {
     "name": "stdout",
     "output_type": "stream",
     "text": [
      "array is:  [3 5 9 1 2 7 8 2]\n",
      "sum of elements of the arrays is:  37\n",
      "maximum element of the given array is:  9\n"
     ]
    }
   ],
   "source": [
    "import numpy as np\n",
    "# num_list=[1.008, 6.94, 22.990, 39.098, 85.468]\n",
    "num_list=[3,5,9,1,2,7,8,2]\n",
    "# print(num_list)\n",
    "# print(type(num_list))\n",
    "one_dim = np.array(num_list)\n",
    "print(\"array is: \", one_dim)\n",
    "# print(type(one_dim))\n",
    "\n",
    "sum=0\n",
    "for i in one_dim:\n",
    "    sum=sum+i\n",
    "    \n",
    "print(\"sum of elements of the arrays is: \", sum)\n",
    "print(\"maximum element of the given array is: \",max(one_dim))"
   ]
  },
  {
   "cell_type": "markdown",
   "id": "94d9ad60",
   "metadata": {},
   "source": [
    "## 30.   Find the maximum element in a given array of integers."
   ]
  },
  {
   "cell_type": "code",
   "execution_count": 29,
   "id": "727a92e6",
   "metadata": {},
   "outputs": [
    {
     "name": "stdout",
     "output_type": "stream",
     "text": [
      "9808\n"
     ]
    }
   ],
   "source": [
    "given_list = [10, 324, 45, 90, 9808]\n",
    "largest=max(given_list)\n",
    "print(largest)"
   ]
  },
  {
   "cell_type": "code",
   "execution_count": 32,
   "id": "ebce37bd",
   "metadata": {},
   "outputs": [
    {
     "name": "stdout",
     "output_type": "stream",
     "text": [
      "array is:  [  10  324   45   90 9808]\n",
      "maximum element of the given array is:  9808\n"
     ]
    }
   ],
   "source": [
    "import numpy as np\n",
    "# num_list=[1.008, 6.94, 22.990, 39.098, 85.468]\n",
    "# num_list=[3,5,9,1,2,7,8,2]\n",
    "num_list=[10, 324, 45, 90, 9808]\n",
    "# print(num_list)\n",
    "# print(type(num_list))\n",
    "one_dim = np.array(num_list)\n",
    "print(\"array is: \", one_dim)\n",
    "# print(type(one_dim))\n",
    "\n",
    "sum=0\n",
    "for i in one_dim:\n",
    "    sum=sum+i\n",
    "    \n",
    "# print(\"sum of elements of the arrays is: \", sum)\n",
    "print(\"maximum element of the given array is: \",max(one_dim))"
   ]
  },
  {
   "cell_type": "code",
   "execution_count": null,
   "id": "b2ed003e",
   "metadata": {},
   "outputs": [],
   "source": []
  }
 ],
 "metadata": {
  "kernelspec": {
   "display_name": "Python 3 (ipykernel)",
   "language": "python",
   "name": "python3"
  },
  "language_info": {
   "codemirror_mode": {
    "name": "ipython",
    "version": 3
   },
   "file_extension": ".py",
   "mimetype": "text/x-python",
   "name": "python",
   "nbconvert_exporter": "python",
   "pygments_lexer": "ipython3",
   "version": "3.9.12"
  }
 },
 "nbformat": 4,
 "nbformat_minor": 5
}
